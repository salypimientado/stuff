{
 "cells": [
  {
   "cell_type": "raw",
   "id": "70c9021c-8158-4a54-8e27-ce12230d5f10",
   "metadata": {},
   "source": [
    "%config IPCompleter.greedy=True"
   ]
  },
  {
   "cell_type": "code",
   "execution_count": null,
   "id": "1e7aac45-e17b-49ea-aba3-127f216603c4",
   "metadata": {},
   "outputs": [],
   "source": [
    "# La clase `Model` se hace cargo de los atributos a nivel del modelo, maneja los agentes. \n",
    "# Cada modelo puede contener múltiples agentes y todos ellos son instancias de la clase `Agent`.\n",
    "from mesa import Agent, Model\n",
    "\n",
    "# Debido a que necesitamos un solo agente por celda elegimos `SingleGrid` que fuerza un solo objeto por celda.\n",
    "from mesa.space import MultiGrid\n",
    "\n",
    "from mesa.batchrunner import BatchRunnerMP\n",
    "# Con `SimultaneousActivation` hacemos que todos los agentes se activen de manera simultanea.\n",
    "from mesa.time import SimultaneousActivation\n",
    "\n",
    "# Vamos a hacer uso de `DataCollector` para obtener el grid completo cada paso (o generación) y lo usaremos para graficarlo.\n",
    "from mesa.datacollection import DataCollector\n",
    "\n",
    "# mathplotlib lo usamos para graficar/visualizar como evoluciona el autómata celular.\n",
    "%matplotlib inline\n",
    "import matplotlib\n",
    "import matplotlib.pyplot as plt\n",
    "import matplotlib.animation as animation\n",
    "plt.rcParams[\"animation.html\"] = \"jshtml\"\n",
    "matplotlib.rcParams['animation.embed_limit'] = 2**128\n",
    "\n",
    "# Definimos los siguientes paquetes para manejar valores númericos.\n",
    "import numpy as np\n",
    "import pandas as pd\n",
    "\n",
    "import itertools\n",
    "\n",
    "from typing import Union\n",
    "\n",
    "from functools import reduce\n",
    "\n",
    "import math\n",
    "\n",
    "# Definimos otros paquetes que vamos a usar para medir el tiempo de ejecución de nuestro algoritmo.\n",
    "import time\n",
    "import datetime"
   ]
  },
  {
   "cell_type": "markdown",
   "id": "775b2397-2e37-40c3-941b-9fde00ec43f9",
   "metadata": {},
   "source": [
    "## Creacion de Agentes, Modelos y funcion para colorear output grid"
   ]
  },
  {
   "cell_type": "code",
   "execution_count": null,
   "id": "bdedd0ba-503f-4a81-91a3-ed30427a9a11",
   "metadata": {
    "tags": []
   },
   "outputs": [],
   "source": [
    "MAX_PER_STACK=100\n",
    "\n",
    "class CleaningAgent(Agent):\n",
    "    def __init__(self,id, x, y, model):\n",
    "        super().__init__(id,model)\n",
    "        self.id: int = id\n",
    "        self.coords: tuple[int,int] = x,y\n",
    "        self.model: CleaningModel = model\n",
    "        self.next_pos: tuple[int,int] = self.coords\n",
    "        self.total_steps: int = 0\n",
    "        self.cur_shelf: Union[None,BoxAgent] = None\n",
    "        self.carrying_box: bool = False\n",
    "        self.directions: Union[None,tuple[tuple,tuple]] = None\n",
    "    \n",
    "    def step(self):\n",
    "        nearby_boxes = [agent for agent in self.model.grid.iter_neighbors(self.coords, False, False, 1) if isinstance(agent,BoxAgent) and not agent.grabbed]\n",
    "        \n",
    "        valid_neighborhood = list(self.model.grid.iter_neighborhood(self.coords,False,False,1))\n",
    "        choices = valid_neighborhood\n",
    "        \n",
    "        if not nearby_boxes and not self.carrying_box:\n",
    "            # choose next position\n",
    "            self.next_pos =choices[np.random.choice(len(choices))]\n",
    "        elif nearby_boxes and not self.carrying_box:\n",
    "            for box in nearby_boxes:\n",
    "                if not box.stack_size:\n",
    "                    if not self.cur_shelf:\n",
    "                        box.stack_size = 1\n",
    "                        self.model.dirt_amount -= 1\n",
    "                        self.cur_shelf = box\n",
    "                        return\n",
    "                    else:\n",
    "                        box.grabbed = True\n",
    "                        self.carrying_box = True\n",
    "                if self.carrying_box:\n",
    "                    self.next_pos =choices[np.random.choice(len(choices))]\n",
    "                    return\n",
    "        if self.cur_shelf and self.carrying_box:\n",
    "            xdir: int = 0\n",
    "            if self.cur_shelf.coords[0] < self.coords[0]:\n",
    "                xdir = -1\n",
    "            elif self.cur_shelf.coords[0] == self.coords[0]:\n",
    "                xdir = 0\n",
    "            else:\n",
    "                xdir = 1\n",
    "            if self.cur_shelf.coords[1] < self.coords[1]:\n",
    "                ydir = -1\n",
    "            elif self.cur_shelf.coords[1] == self.coords[1]:\n",
    "                ydir = 0\n",
    "            else:\n",
    "                ydir = 1\n",
    "            self.directions = (xdir,0), (0,ydir)\n",
    "            if xdir != 0:\n",
    "                self.next_pos = self.coords[0] + self.directions[0][0], self.coords[1] + self.directions[0][1]\n",
    "            else:\n",
    "                self.next_pos = self.coords[0] + self.directions[1][0], self.coords[1] + self.directions[1][1]\n",
    "        else:\n",
    "            self.next_pos =choices[np.random.choice(len(choices))]\n",
    "                        \n",
    "    def advance(self):\n",
    "        canMove = self.next_pos not in self.model.next_occupied_spaces\n",
    "        while not canMove:\n",
    "            valid_neighborhood = list(self.model.grid.iter_neighborhood(self.coords,False,False,1))\n",
    "            choices = valid_neighborhood\n",
    "            self.next_pos =choices[np.random.choice(len(choices))]\n",
    "            canMove = self.next_pos not in self.model.next_occupied_spaces\n",
    "        if self.carrying_box and self.cur_shelf and self.next_pos == self.cur_shelf.coords:\n",
    "            self.cur_shelf.stack_size += 1\n",
    "            #print(self.cur_shelf.stack_size)\n",
    "            if self.cur_shelf.stack_size == MAX_PER_STACK:\n",
    "                self.cur_shelf = None\n",
    "            self.carrying_box = False\n",
    "            return\n",
    "        if self.next_pos != self.coords:\n",
    "            self.total_steps = self.total_steps + 1\n",
    "        self.coords = self.next_pos\n",
    "        self.model.grid.move_agent(self,self.coords)\n",
    "        self.model.next_occupied_spaces.append(self.coords)\n",
    "\n",
    "class BoxAgent(Agent):\n",
    "    def __init__(self,id, x: int, y: int, model):\n",
    "        super().__init__(id, model)\n",
    "        self.id = id\n",
    "        self.coords = x, y\n",
    "        self.model = model\n",
    "        self.next_state = None\n",
    "        self.stack_size = None\n",
    "        self.grabbed = False\n",
    "        self.done = False\n",
    "        \n",
    "    def step(self):\n",
    "        # if there are any vacuum agents in the same cell next state is clean\n",
    "        if self.grabbed:\n",
    "            if not self.done:\n",
    "                self.model.dirt_amount = self.model.dirt_amount-1\n",
    "                self.done = True\n",
    "        \n",
    "    def advance(self):\n",
    "        self.grabbed = self.grabbed or self.next_state\n",
    "        \n",
    "def get_grid(model) -> np.ndarray: \n",
    "    dimensions = model.grid.width, model.grid.height\n",
    "    grid = np.zeros(dimensions)\n",
    "    for x, line in enumerate(grid):\n",
    "        for y, _ in enumerate(line):\n",
    "            # amount of dirt agents in cell\n",
    "            box = len(list(filter(lambda agent: isinstance(agent,BoxAgent) and not (agent.grabbed or agent.stack_size), model.grid.iter_neighbors((x,y), False, True, 0))))\n",
    "            #print(f'{x=} {y=} {dirt=}')\n",
    "            stacks = len(list(filter(lambda agent: isinstance(agent,BoxAgent) and agent.stack_size, model.grid.iter_neighbors((x,y), False, True, 0))))\n",
    "            # len of dirt agents in cell\n",
    "            cleaner = len(list(filter(lambda agent: isinstance(agent,CleaningAgent), model.grid.iter_neighbors((x,y), False, True, 0))))\n",
    "            #print(f'{vacuums=}')\n",
    "            if box and not stacks and not cleaner:\n",
    "                grid[x][y] = 0\n",
    "            elif stacks and cleaner:\n",
    "                grid[x][y] = 0.75\n",
    "            elif stacks and not cleaner:\n",
    "                grid[x][y] = 0.25\n",
    "            elif not box and cleaner:\n",
    "                grid[x][y] = 1\n",
    "            elif not box and not cleaner:\n",
    "                grid[x][y] = 0.5\n",
    "        \n",
    "    return grid\n",
    "\n",
    "def get_dirt_amount(model)-> int: \n",
    "    return model.dirt_amount\n",
    "\n",
    "        \n",
    "class CleaningModel(Model):\n",
    "    def __init__(self,M: int,N: int,robots: int,box_percentage: float):\n",
    "        self.grid = MultiGrid(M,N,False)\n",
    "        self.x = M\n",
    "        self.y = N\n",
    "        self.schedule = SimultaneousActivation(self)\n",
    "        self.dirt_amount = int(M*N*(box_percentage*100))//100\n",
    "        self.running = True\n",
    "        self.start_time = time.time()\n",
    "        self.cur_time = 0\n",
    "        self.next_occupied_spaces = []\n",
    "        \n",
    "        id = 0\n",
    "        shuffled_coords = list((x, y) for agent, x, y in self.grid.coord_iter())\n",
    "        np.random.shuffle(shuffled_coords)\n",
    "        self.spawn_coords = shuffled_coords[0:robots]\n",
    "        for ( x, y) in self.spawn_coords:\n",
    "            b = CleaningAgent(id, x, y, self)\n",
    "            self.grid.place_agent(b, (x, y))\n",
    "            self.schedule.add(b)\n",
    "            id = id + 1\n",
    "\n",
    "        for (x, y) in shuffled_coords[robots+1:self.dirt_amount]:\n",
    "            a = BoxAgent(id, x, y, self)\n",
    "            self.grid.place_agent(a, (x, y))\n",
    "            self.schedule.add(a)\n",
    "            id = id + 1\n",
    "        \n",
    "        \n",
    "        avg_x = reduce(lambda acc, p: acc + p[0], self.spawn_coords,0) / len(self.spawn_coords)\n",
    "        avg_y = reduce(lambda acc, p: acc + p[1], self.spawn_coords,0) / len(self.spawn_coords)\n",
    "        self.avg_distance_to_center = math.sqrt((avg_x - (M-1)/2)**2 + (avg_y-(N-1)/2)**2)\n",
    "        #self.average_distance_to_center = \n",
    "    \n",
    "                \n",
    "        self.datacollector = DataCollector(\n",
    "            model_reporters={\"Grid\": get_grid, \"Dirt_amount\":get_dirt_amount})\n",
    "    def step(self):\n",
    "        self.datacollector.collect(self)\n",
    "        self.schedule.step()\n",
    "        self.next_occupied_spaces = []\n",
    "        self.cur_time = time.time() - self.start_time \n",
    "        if self.dirt_amount == 0:\n",
    "            self.running = False"
   ]
  },
  {
   "cell_type": "markdown",
   "id": "b04c145c-7ace-49f4-acc3-53a342e88645",
   "metadata": {
    "tags": []
   },
   "source": [
    "## Correr modelo con combinaciones de variables para ver correlaciones entre variables de entrada y salidas"
   ]
  },
  {
   "cell_type": "code",
   "execution_count": null,
   "id": "bbcc974f-f09c-43a0-acb7-533cc361daee",
   "metadata": {
    "tags": []
   },
   "outputs": [],
   "source": [
    "M = [10,20,40]\n",
    "N = [10,20,40]\n",
    "num_robots = [1,5,10]\n",
    "porc_cajas = [0.1,0.5,0.9]\n",
    "exec_settings = dict(M=M,N=N,robots=num_robots,box_percentage=porc_cajas)\n",
    "\n",
    "model_reporter = {\"Time until done\": lambda m: (m.cur_time), \"Clean Percentage\": lambda m: 1 - m.dirt_amount/(m.x*m.y) ,\"Average distance to center\": lambda m: m.avg_distance_to_center, \"Average_steps_per_agent\": lambda m:(lambda lst: sum(lst)/len(lst))([agent.total_steps for agent in m.schedule.agent_buffer() if isinstance(agent,CleaningAgent)])}\n",
    "    # Imprimimos el tiempo que le tomó correr al modelo.\n",
    "param_run = BatchRunnerMP(CleaningModel, None, variable_parameters=exec_settings, model_reporters=model_reporter)"
   ]
  },
  {
   "cell_type": "code",
   "execution_count": null,
   "id": "49b11ac2-4398-41e7-bf27-bfc456ee249e",
   "metadata": {
    "scrolled": true,
    "tags": []
   },
   "outputs": [],
   "source": [
    "param_run.run_all()"
   ]
  },
  {
   "cell_type": "markdown",
   "id": "4555e5b1-56b4-4e26-b467-92062c6e441a",
   "metadata": {
    "tags": []
   },
   "source": [
    "## Convertir resultado de batch run, pasarlo a dataframe y quitarle una columna innecesaria"
   ]
  },
  {
   "cell_type": "code",
   "execution_count": null,
   "id": "7e1f865f-bd0d-4788-8e6f-d66037223477",
   "metadata": {
    "tags": []
   },
   "outputs": [],
   "source": [
    "df = param_run.get_model_vars_dataframe()\n",
    "df = df.drop([\"Run\"],axis=1)\n",
    "df.describe()"
   ]
  },
  {
   "cell_type": "markdown",
   "id": "e1cba416-1c40-4b5f-b2db-e499be505613",
   "metadata": {
    "tags": []
   },
   "source": [
    "## Sacar la matriz de correlacion y hacer un heatmap"
   ]
  },
  {
   "cell_type": "code",
   "execution_count": null,
   "id": "28753cb8-df80-4bc4-ba9d-ff6431a9fd8f",
   "metadata": {
    "tags": []
   },
   "outputs": [],
   "source": [
    "import seaborn as sn\n",
    "import matplotlib.pyplot as plt\n",
    "\n",
    "corrMatrix = df.corr()\n",
    "\n",
    "mask = np.triu(np.ones_like(corrMatrix, dtype=bool))\n",
    "\n",
    "# adjust mask and df\n",
    "mask = mask[1:, :-1]\n",
    "corr = corrMatrix.iloc[1:,:-1].copy()\n",
    "\n",
    "colormap = sn.color_palette(\"magma\", as_cmap=True)\n",
    "\n",
    "sn.heatmap(corr, mask=mask, annot=True, fmt=\".2f\", cmap=colormap)\n",
    "plt.show()"
   ]
  },
  {
   "cell_type": "markdown",
   "id": "af423fbf-8765-4bad-8019-94d35f57eb55",
   "metadata": {},
   "source": [
    "## Correr una vez el modelo para ver como funciona el modelo con una grafica"
   ]
  },
  {
   "cell_type": "code",
   "execution_count": null,
   "id": "c5a1ba7a-2762-4efe-aaa9-e67025fb82fc",
   "metadata": {},
   "outputs": [],
   "source": [
    "start = time.time()\n",
    "exec_time = 1\n",
    "gens = 0\n",
    "X = 10\n",
    "Y = 10\n",
    "vacuums = 3\n",
    "dirt_percentage = 0.8\n",
    "model = CleaningModel(X, Y, vacuums, dirt_percentage)\n",
    "while gens < 100:\n",
    "    model.step()\n",
    "    gens = gens +1\n",
    "\n",
    "dirt = model.datacollector.get_model_vars_dataframe()['Dirt_amount']\n",
    "all_grid = model.datacollector.get_model_vars_dataframe()['Grid']\n",
    "dirt.plot()\n",
    "\n",
    "fig, axs = plt.subplots(figsize=(X,Y))\n",
    "axs.set_xticks([])\n",
    "axs.set_yticks([])\n",
    "patch = plt.imshow(all_grid.iloc[0], cmap=plt.cm.coolwarm)\n",
    "\n",
    "def animate(i):\n",
    "    patch.set_data(all_grid.iloc[i])\n",
    "    \n",
    "anim = animation.FuncAnimation(fig, animate, frames=gens)"
   ]
  },
  {
   "cell_type": "code",
   "execution_count": null,
   "id": "65eb208f-864e-42bc-b783-b80401f673f8",
   "metadata": {},
   "outputs": [],
   "source": [
    "anim"
   ]
  },
  {
   "cell_type": "code",
   "execution_count": null,
   "id": "1ea540f2-4e72-4894-b72e-66fdb560dfc7",
   "metadata": {},
   "outputs": [],
   "source": []
  }
 ],
 "metadata": {
  "kernelspec": {
   "display_name": "env",
   "language": "python",
   "name": "env"
  },
  "language_info": {
   "codemirror_mode": {
    "name": "ipython",
    "version": 3
   },
   "file_extension": ".py",
   "mimetype": "text/x-python",
   "name": "python",
   "nbconvert_exporter": "python",
   "pygments_lexer": "ipython3",
   "version": "3.9.5"
  }
 },
 "nbformat": 4,
 "nbformat_minor": 5
}
