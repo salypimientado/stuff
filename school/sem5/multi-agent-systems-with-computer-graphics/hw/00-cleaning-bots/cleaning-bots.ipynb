{
 "cells": [
  {
   "cell_type": "raw",
   "id": "70c9021c-8158-4a54-8e27-ce12230d5f10",
   "metadata": {},
   "source": [
    "%config IPCompleter.greedy=True"
   ]
  },
  {
   "cell_type": "code",
   "execution_count": null,
   "id": "1e7aac45-e17b-49ea-aba3-127f216603c4",
   "metadata": {},
   "outputs": [],
   "source": [
    "# La clase `Model` se hace cargo de los atributos a nivel del modelo, maneja los agentes. \n",
    "# Cada modelo puede contener múltiples agentes y todos ellos son instancias de la clase `Agent`.\n",
    "from mesa import Agent, Model\n",
    "\n",
    "# Debido a que necesitamos un solo agente por celda elegimos `SingleGrid` que fuerza un solo objeto por celda.\n",
    "from mesa.space import MultiGrid\n",
    "\n",
    "from mesa.batchrunner import BatchRunnerMP\n",
    "# Con `SimultaneousActivation` hacemos que todos los agentes se activen de manera simultanea.\n",
    "from mesa.time import SimultaneousActivation\n",
    "\n",
    "# Vamos a hacer uso de `DataCollector` para obtener el grid completo cada paso (o generación) y lo usaremos para graficarlo.\n",
    "from mesa.datacollection import DataCollector\n",
    "\n",
    "# mathplotlib lo usamos para graficar/visualizar como evoluciona el autómata celular.\n",
    "%matplotlib inline\n",
    "import matplotlib\n",
    "import matplotlib.pyplot as plt\n",
    "import matplotlib.animation as animation\n",
    "plt.rcParams[\"animation.html\"] = \"jshtml\"\n",
    "matplotlib.rcParams['animation.embed_limit'] = 2**128\n",
    "\n",
    "# Definimos los siguientes paquetes para manejar valores númericos.\n",
    "import numpy as np\n",
    "import pandas as pd\n",
    "\n",
    "import itertools\n",
    "\n",
    "# Definimos otros paquetes que vamos a usar para medir el tiempo de ejecución de nuestro algoritmo.\n",
    "import time\n",
    "import datetime"
   ]
  },
  {
   "cell_type": "markdown",
   "id": "775b2397-2e37-40c3-941b-9fde00ec43f9",
   "metadata": {},
   "source": [
    "## Creacion de Agentes, Modelos y funcion para colorear output grid"
   ]
  },
  {
   "cell_type": "code",
   "execution_count": null,
   "id": "bdedd0ba-503f-4a81-91a3-ed30427a9a11",
   "metadata": {
    "tags": []
   },
   "outputs": [],
   "source": [
    "def get_grid(model):\n",
    "    dimensions = model.grid.width, model.grid.height\n",
    "    grid = np.zeros(dimensions)\n",
    "    for x, line in enumerate(grid):\n",
    "        for y, _ in enumerate(line):\n",
    "            # amount of dirt agents in cell\n",
    "            dirt = len(list(filter(lambda agent: isinstance(agent,DirtAgent) and not agent.is_clean, model.grid.iter_neighbors((x,y), False, True, 0))))\n",
    "            #print(f'{x=} {y=} {dirt=}')\n",
    "            # len of dirt agents in cell\n",
    "            vacuums = len(list(filter(lambda agent: isinstance(agent,VacuumAgent), model.grid.iter_neighbors((x,y), False, True, 0))))\n",
    "            #print(f'{vacuums=}')\n",
    "            if dirt != 0 and vacuums == 0:\n",
    "                grid[x][y] = -10\n",
    "            elif dirt == 0 and vacuums != 0:\n",
    "                grid[x][y] = 10\n",
    "            elif dirt != 0 and vacuums != 0:\n",
    "                grid[x][y] = 5\n",
    "            elif dirt == 0 and vacuums == 0:\n",
    "                grid[x][y] = 0\n",
    "        \n",
    "    return grid\n",
    "\n",
    "def get_dirt_amount(model):\n",
    "    return model.dirt_amount\n",
    "\n",
    "    \n",
    "\n",
    "class VacuumAgent(Agent):\n",
    "    def __init__(self,id, x, y, model):\n",
    "        super().__init__(id,model)\n",
    "        self.id = id\n",
    "        self.coords = x,y\n",
    "        self.model = model\n",
    "        self.next_pos = None\n",
    "        self.total_steps = 0\n",
    "    \n",
    "    def step(self):\n",
    "        need_to_clean = any([isinstance(agent,DirtAgent) and not agent.is_clean for agent in self.model.grid.iter_neighbors(self.coords, False, True, 0)])\n",
    "        if not need_to_clean:\n",
    "            valid_neighborhood = [cell for cell in self.model.grid.iter_neighborhood(self.coords,True,False,1)]\n",
    "            # insert current coords to replace unreachable space\n",
    "            valid_neighborhood.extend([self.coords for _ in range(8-len(valid_neighborhood))])\n",
    "            \n",
    "            choices = valid_neighborhood\n",
    "            # choose next position\n",
    "            self.next_pos =choices[np.random.choice(len(choices))]\n",
    "        else:\n",
    "            self.next_pos = self.coords\n",
    "    def advance(self):\n",
    "        if self.next_pos != self.coords:\n",
    "            self.total_steps = self.total_steps + 1\n",
    "        self.coords = self.next_pos\n",
    "        self.model.grid.move_agent(self,self.coords)\n",
    "\n",
    "class DirtAgent(Agent):\n",
    "    def __init__(self,id, x, y, model):\n",
    "        super().__init__(id, model)\n",
    "        self.id = id\n",
    "        self.coords = x, y\n",
    "        self.model = model\n",
    "        self.next_state = None\n",
    "        self.is_clean = False\n",
    "        \n",
    "    def step(self):\n",
    "        # if there are any vacuum agents in the same cell next state is clean\n",
    "        if not self.is_clean:\n",
    "            self.next_state = any([isinstance(agent,VacuumAgent) for agent in self.model.grid.iter_neighbors(self.coords, False, True, 0)])\n",
    "            if self.next_state == True:\n",
    "                self.model.dirt_amount = self.model.dirt_amount-1\n",
    "        \n",
    "    def advance(self):\n",
    "        self.is_clean = self.is_clean or self.next_state\n",
    "        \n",
    "class CleaningModel(Model):\n",
    "    def __init__(self,M,N,vacuums,dirty_percentage,exec_time):\n",
    "        self.grid = MultiGrid(M,N,False)\n",
    "        self.x = M\n",
    "        self.y = N\n",
    "        self.schedule = SimultaneousActivation(self)\n",
    "        self.dirt_amount = int(M*N*(dirty_percentage*100))//100\n",
    "        self.running = True\n",
    "        self.exec_time = float(exec_time)\n",
    "        self.start_time = time.time()\n",
    "        self.cur_time = 0\n",
    "        \n",
    "        id = 0\n",
    "        shuffled_dirt_coords = list(self.grid.coord_iter())\n",
    "        np.random.shuffle(shuffled_dirt_coords)\n",
    "        for (content, x, y) in shuffled_dirt_coords[:self.dirt_amount]:\n",
    "            a = DirtAgent(id, x, y, self)\n",
    "            self.grid.place_agent(a, (x, y))\n",
    "            self.schedule.add(a)\n",
    "            id = id + 1\n",
    "        \n",
    "        for _ in itertools.repeat(None,vacuums):\n",
    "            a = VacuumAgent(id, 1, 1, self)\n",
    "            self.grid.place_agent(a, (1, 1))\n",
    "            self.schedule.add(a)\n",
    "            id = id + 1\n",
    "    \n",
    "                \n",
    "        self.datacollector = DataCollector(\n",
    "            model_reporters={\"Grid\": get_grid, \"Dirt_amount\":get_dirt_amount})\n",
    "    def step(self):\n",
    "        if time.time() - self.start_time >= self.exec_time:\n",
    "            self.running = False\n",
    "            self.datacollector.collect(self)\n",
    "        if self.running and time.time() - self.start_time < self.exec_time:\n",
    "            self.datacollector.collect(self)\n",
    "            self.schedule.step()\n",
    "            self.cur_time = time.time() - self.start_time \n",
    "            if self.dirt_amount == 0:\n",
    "                self.running = False"
   ]
  },
  {
   "cell_type": "markdown",
   "id": "b04c145c-7ace-49f4-acc3-53a342e88645",
   "metadata": {},
   "source": [
    "## Correr modelo con combinaciones de variables para ver correlaciones entre variables de entrada y salidas"
   ]
  },
  {
   "cell_type": "code",
   "execution_count": null,
   "id": "bbcc974f-f09c-43a0-acb7-533cc361daee",
   "metadata": {
    "tags": []
   },
   "outputs": [],
   "source": [
    "M = [10,20,30]\n",
    "N = [10,20,30]\n",
    "num_aspiradoras = [1,5,10]\n",
    "porc_celdas_sucias = [0.1,0.5,0.9]\n",
    "tiempo_ejecucion = [1,3,5]\n",
    "exec_settings = dict(M=M,N=N,vacuums=num_aspiradoras,exec_time=tiempo_ejecucion,dirty_percentage=porc_celdas_sucias)\n",
    "\n",
    "model_reporter = {\"Time until done\": lambda m: (m.cur_time), \"Clean Percentage\": lambda m: 1 - m.dirt_amount/(m.x*m.y) , \"Average_steps_per_agent\": lambda m:(lambda lst: sum(lst)/len(lst))([agent.total_steps for agent in m.schedule.agent_buffer() if isinstance(agent,VacuumAgent)])}\n",
    "    # Imprimimos el tiempo que le tomó correr al modelo.\n",
    "param_run = BatchRunnerMP(CleaningModel, None, variable_parameters=exec_settings, model_reporters=model_reporter)"
   ]
  },
  {
   "cell_type": "code",
   "execution_count": null,
   "id": "49b11ac2-4398-41e7-bf27-bfc456ee249e",
   "metadata": {
    "scrolled": true,
    "tags": []
   },
   "outputs": [],
   "source": [
    "param_run.run_all()"
   ]
  },
  {
   "cell_type": "markdown",
   "id": "4555e5b1-56b4-4e26-b467-92062c6e441a",
   "metadata": {
    "tags": []
   },
   "source": [
    "## Convertir resultado de batch run, pasarlo a dataframe y quitarle una columna innecesaria"
   ]
  },
  {
   "cell_type": "code",
   "execution_count": null,
   "id": "7e1f865f-bd0d-4788-8e6f-d66037223477",
   "metadata": {
    "tags": []
   },
   "outputs": [],
   "source": [
    "df = param_run.get_model_vars_dataframe()\n",
    "df = df.drop([\"Run\"],axis=1)\n",
    "df.describe()"
   ]
  },
  {
   "cell_type": "markdown",
   "id": "e1cba416-1c40-4b5f-b2db-e499be505613",
   "metadata": {},
   "source": [
    "## Sacar la matriz de correlacion y hacer un heatmap"
   ]
  },
  {
   "cell_type": "code",
   "execution_count": null,
   "id": "28753cb8-df80-4bc4-ba9d-ff6431a9fd8f",
   "metadata": {
    "tags": []
   },
   "outputs": [],
   "source": [
    "import seaborn as sn\n",
    "import matplotlib.pyplot as plt\n",
    "\n",
    "corrMatrix = df.corr()\n",
    "\n",
    "colormap = sn.color_palette(\"magma\", as_cmap=True)\n",
    "\n",
    "sn.heatmap(corrMatrix, annot=True, cmap=colormap)\n",
    "plt.show()"
   ]
  },
  {
   "cell_type": "markdown",
   "id": "af423fbf-8765-4bad-8019-94d35f57eb55",
   "metadata": {},
   "source": [
    "## Correr una vez el modelo para ver como funciona el modelo con una grafica"
   ]
  },
  {
   "cell_type": "code",
   "execution_count": null,
   "id": "c5a1ba7a-2762-4efe-aaa9-e67025fb82fc",
   "metadata": {},
   "outputs": [],
   "source": [
    "start = time.time()\n",
    "exec_time = 1\n",
    "gens = 0\n",
    "X = 10\n",
    "Y = 10\n",
    "vacuums = 3\n",
    "dirt_percentage = 0.8\n",
    "model = CleaningModel(X, Y, vacuums, dirt_percentage, exec_time)\n",
    "while model.running:\n",
    "    model.step()\n",
    "    gens = gens +1\n",
    "\n",
    "dirt = model.datacollector.get_model_vars_dataframe()['Dirt_amount']\n",
    "all_grid = model.datacollector.get_model_vars_dataframe()['Grid']\n",
    "dirt.plot()"
   ]
  },
  {
   "cell_type": "code",
   "execution_count": null,
   "id": "ce50fe9b-fece-404e-8d8c-ec2e760f2292",
   "metadata": {},
   "outputs": [],
   "source": [
    "%%capture\n",
    "\n",
    "fig, axs = plt.subplots(figsize=(X,Y))\n",
    "axs.set_xticks([])\n",
    "axs.set_yticks([])\n",
    "patch = plt.imshow(all_grid.iloc[0], cmap=plt.cm.coolwarm)\n",
    "\n",
    "def animate(i):\n",
    "    patch.set_data(all_grid.iloc[i])\n",
    "    \n",
    "anim = animation.FuncAnimation(fig, animate, frames=gens)"
   ]
  },
  {
   "cell_type": "code",
   "execution_count": null,
   "id": "65eb208f-864e-42bc-b783-b80401f673f8",
   "metadata": {},
   "outputs": [],
   "source": [
    "anim"
   ]
  },
  {
   "cell_type": "markdown",
   "id": "ac139562-6bb3-4bbb-a355-578e49411e4a",
   "metadata": {},
   "source": [
    "### Conclusiones\n",
    "\n",
    "Viendo el heatmap de una serie de combinaciones de variables de entrada y la , podemos llegar a las siguientes conclusiones:\n",
    "\n",
    "\n",
    "1. Entre mas grande sea el cuarto a limpiar, menos limpio va a quedar\n",
    "2. Las variables de entrada que mas afectan positivamente al porcentaje de casillas limpias son el numero de aspiradoras y el tiempo de ejecucion\n",
    "3. El porcentaje de casillas sucias inicial es la variable con mas impacto en el porcentaje de casillas limpias finales\n",
    "4. Por lo general, no suele acabar con el tiempo dado asi que entre mas le demos mas tiempo se va a tardar en terminar, limpie todo o no\n",
    "5. El tiempo de ejecucion esta altamente correlacionado con el tiempo que tomaba acabar al modelo y al tiempo maximo de ejecucion\n",
    "6. A como pasa el tiempo los robots se vuelven menos efectivos porque hay mas espacio limpio por el que pueden pasar"
   ]
  }
 ],
 "metadata": {
  "kernelspec": {
   "display_name": "Python 3 (ipykernel)",
   "language": "python",
   "name": "python3"
  },
  "language_info": {
   "codemirror_mode": {
    "name": "ipython",
    "version": 3
   },
   "file_extension": ".py",
   "mimetype": "text/x-python",
   "name": "python",
   "nbconvert_exporter": "python",
   "pygments_lexer": "ipython3",
   "version": "3.9.5"
  }
 },
 "nbformat": 4,
 "nbformat_minor": 5
}
